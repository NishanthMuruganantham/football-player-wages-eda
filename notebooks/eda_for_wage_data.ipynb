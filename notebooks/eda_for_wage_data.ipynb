{
 "cells": [
  {
   "cell_type": "markdown",
   "id": "26be1394-f3fd-4dbe-b275-224c55c69db9",
   "metadata": {},
   "source": [
    "## Setting up the data"
   ]
  },
  {
   "cell_type": "markdown",
   "id": "397c5d93-c763-4915-a43b-8510e423ecec",
   "metadata": {},
   "source": [
    "### Importing the Libraries"
   ]
  },
  {
   "cell_type": "code",
   "execution_count": 1,
   "id": "a09fc925-50bb-4439-8fc3-8c835c49ed36",
   "metadata": {},
   "outputs": [],
   "source": [
    "import os\n",
    "import pandas as pd"
   ]
  },
  {
   "cell_type": "markdown",
   "id": "2b52b78f-8b9f-4922-97ab-a2f8ea2c9e3c",
   "metadata": {},
   "source": [
    "### Importing the Dataset"
   ]
  },
  {
   "cell_type": "code",
   "execution_count": 2,
   "id": "482972a7-d5d2-470b-b68a-f127c31bbdf2",
   "metadata": {},
   "outputs": [
    {
     "data": {
      "text/html": [
       "<div>\n",
       "<style scoped>\n",
       "    .dataframe tbody tr th:only-of-type {\n",
       "        vertical-align: middle;\n",
       "    }\n",
       "\n",
       "    .dataframe tbody tr th {\n",
       "        vertical-align: top;\n",
       "    }\n",
       "\n",
       "    .dataframe thead th {\n",
       "        text-align: right;\n",
       "    }\n",
       "</style>\n",
       "<table border=\"1\" class=\"dataframe\">\n",
       "  <thead>\n",
       "    <tr style=\"text-align: right;\">\n",
       "      <th></th>\n",
       "      <th>Caps</th>\n",
       "      <th>Apps</th>\n",
       "      <th>Position</th>\n",
       "      <th>Nation</th>\n",
       "      <th>League</th>\n",
       "      <th>Club</th>\n",
       "      <th>Age</th>\n",
       "      <th>Wage</th>\n",
       "    </tr>\n",
       "  </thead>\n",
       "  <tbody>\n",
       "    <tr>\n",
       "      <th>0</th>\n",
       "      <td>57</td>\n",
       "      <td>190</td>\n",
       "      <td>Forward</td>\n",
       "      <td>FRA</td>\n",
       "      <td>Ligue 1 Uber Eats</td>\n",
       "      <td>PSG</td>\n",
       "      <td>23</td>\n",
       "      <td>46,427,000</td>\n",
       "    </tr>\n",
       "    <tr>\n",
       "      <th>1</th>\n",
       "      <td>119</td>\n",
       "      <td>324</td>\n",
       "      <td>Midfilder</td>\n",
       "      <td>BRA</td>\n",
       "      <td>Ligue 1 Uber Eats</td>\n",
       "      <td>PSG</td>\n",
       "      <td>30</td>\n",
       "      <td>42,125,000</td>\n",
       "    </tr>\n",
       "    <tr>\n",
       "      <th>2</th>\n",
       "      <td>162</td>\n",
       "      <td>585</td>\n",
       "      <td>Forward</td>\n",
       "      <td>ARG</td>\n",
       "      <td>Ligue 1 Uber Eats</td>\n",
       "      <td>PSG</td>\n",
       "      <td>35</td>\n",
       "      <td>34,821,000</td>\n",
       "    </tr>\n",
       "    <tr>\n",
       "      <th>3</th>\n",
       "      <td>120</td>\n",
       "      <td>443</td>\n",
       "      <td>Forward</td>\n",
       "      <td>BEL</td>\n",
       "      <td>La Liga</td>\n",
       "      <td>R. Madrid</td>\n",
       "      <td>31</td>\n",
       "      <td>19,959,000</td>\n",
       "    </tr>\n",
       "    <tr>\n",
       "      <th>4</th>\n",
       "      <td>45</td>\n",
       "      <td>480</td>\n",
       "      <td>Goalkeeper</td>\n",
       "      <td>ESP</td>\n",
       "      <td>Premier League</td>\n",
       "      <td>Man UFC</td>\n",
       "      <td>31</td>\n",
       "      <td>19,500,000</td>\n",
       "    </tr>\n",
       "  </tbody>\n",
       "</table>\n",
       "</div>"
      ],
      "text/plain": [
       "   Caps  Apps    Position Nation             League       Club  Age  \\\n",
       "0    57   190     Forward    FRA  Ligue 1 Uber Eats        PSG   23   \n",
       "1   119   324   Midfilder    BRA  Ligue 1 Uber Eats        PSG   30   \n",
       "2   162   585     Forward    ARG  Ligue 1 Uber Eats        PSG   35   \n",
       "3   120   443     Forward    BEL            La Liga  R. Madrid   31   \n",
       "4    45   480  Goalkeeper    ESP     Premier League    Man UFC   31   \n",
       "\n",
       "         Wage  \n",
       "0  46,427,000  \n",
       "1  42,125,000  \n",
       "2  34,821,000  \n",
       "3  19,959,000  \n",
       "4  19,500,000  "
      ]
     },
     "execution_count": 2,
     "metadata": {},
     "output_type": "execute_result"
    }
   ],
   "source": [
    "csv_filepath = os.path.join(os.path.dirname(os.path.abspath('')), \"data\", \"football_players_wage_data.csv\")\n",
    "football_wage_data = pd.read_csv(csv_filepath)\n",
    "football_wage_data = football_wage_data.iloc[:, ::-1]\n",
    "football_wage_data.head()"
   ]
  },
  {
   "cell_type": "markdown",
   "id": "8bba9ed5-6e99-45e6-aa30-47db6549e982",
   "metadata": {},
   "source": [
    "## Exploring the dataset properties"
   ]
  },
  {
   "cell_type": "markdown",
   "id": "33467e6e-0182-4309-975b-40e17841c454",
   "metadata": {},
   "source": [
    "### Checking Missing Values"
   ]
  },
  {
   "cell_type": "code",
   "execution_count": 3,
   "id": "0305194a-7122-4df6-8c57-a85fd4c1dad6",
   "metadata": {},
   "outputs": [
    {
     "data": {
      "text/plain": [
       "Caps        0\n",
       "Apps        0\n",
       "Position    0\n",
       "Nation      0\n",
       "League      0\n",
       "Club        0\n",
       "Age         0\n",
       "Wage        0\n",
       "dtype: int64"
      ]
     },
     "execution_count": 3,
     "metadata": {},
     "output_type": "execute_result"
    }
   ],
   "source": [
    "football_wage_data.isna().sum()"
   ]
  },
  {
   "cell_type": "markdown",
   "id": "3d53978b-044d-4e22-b139-67c07a7ba812",
   "metadata": {},
   "source": [
    "### Checking and removing the duplicates"
   ]
  },
  {
   "cell_type": "code",
   "execution_count": 4,
   "id": "d0684e6f-75b8-40a2-8b46-403e9a6b22e7",
   "metadata": {},
   "outputs": [
    {
     "data": {
      "text/plain": [
       "65"
      ]
     },
     "execution_count": 4,
     "metadata": {},
     "output_type": "execute_result"
    }
   ],
   "source": [
    "football_wage_data.duplicated().sum()"
   ]
  },
  {
   "cell_type": "code",
   "execution_count": 5,
   "id": "82606af3-5910-4459-97b8-76169f026147",
   "metadata": {},
   "outputs": [
    {
     "data": {
      "text/html": [
       "<div>\n",
       "<style scoped>\n",
       "    .dataframe tbody tr th:only-of-type {\n",
       "        vertical-align: middle;\n",
       "    }\n",
       "\n",
       "    .dataframe tbody tr th {\n",
       "        vertical-align: top;\n",
       "    }\n",
       "\n",
       "    .dataframe thead th {\n",
       "        text-align: right;\n",
       "    }\n",
       "</style>\n",
       "<table border=\"1\" class=\"dataframe\">\n",
       "  <thead>\n",
       "    <tr style=\"text-align: right;\">\n",
       "      <th></th>\n",
       "      <th>Caps</th>\n",
       "      <th>Apps</th>\n",
       "      <th>Position</th>\n",
       "      <th>Nation</th>\n",
       "      <th>League</th>\n",
       "      <th>Club</th>\n",
       "      <th>Age</th>\n",
       "      <th>Wage</th>\n",
       "    </tr>\n",
       "  </thead>\n",
       "  <tbody>\n",
       "    <tr>\n",
       "      <th>1488</th>\n",
       "      <td>0</td>\n",
       "      <td>0</td>\n",
       "      <td>Midfilder</td>\n",
       "      <td>ENG</td>\n",
       "      <td>Premier League</td>\n",
       "      <td>Chelsea</td>\n",
       "      <td>18</td>\n",
       "      <td>780,000</td>\n",
       "    </tr>\n",
       "    <tr>\n",
       "      <th>2372</th>\n",
       "      <td>0</td>\n",
       "      <td>0</td>\n",
       "      <td>Defender</td>\n",
       "      <td>ENG</td>\n",
       "      <td>Premier League</td>\n",
       "      <td>Chelsea</td>\n",
       "      <td>18</td>\n",
       "      <td>182,000</td>\n",
       "    </tr>\n",
       "    <tr>\n",
       "      <th>2433</th>\n",
       "      <td>0</td>\n",
       "      <td>2</td>\n",
       "      <td>Midfilder</td>\n",
       "      <td>CMR</td>\n",
       "      <td>Ligue 1 Uber Eats</td>\n",
       "      <td>LOSC</td>\n",
       "      <td>18</td>\n",
       "      <td>163,000</td>\n",
       "    </tr>\n",
       "    <tr>\n",
       "      <th>2476</th>\n",
       "      <td>0</td>\n",
       "      <td>0</td>\n",
       "      <td>Midfilder</td>\n",
       "      <td>ENG</td>\n",
       "      <td>Premier League</td>\n",
       "      <td>Man City</td>\n",
       "      <td>18</td>\n",
       "      <td>156,000</td>\n",
       "    </tr>\n",
       "    <tr>\n",
       "      <th>2584</th>\n",
       "      <td>0</td>\n",
       "      <td>0</td>\n",
       "      <td>Forward</td>\n",
       "      <td>ENG</td>\n",
       "      <td>Premier League</td>\n",
       "      <td>Liverpool</td>\n",
       "      <td>18</td>\n",
       "      <td>130,000</td>\n",
       "    </tr>\n",
       "    <tr>\n",
       "      <th>...</th>\n",
       "      <td>...</td>\n",
       "      <td>...</td>\n",
       "      <td>...</td>\n",
       "      <td>...</td>\n",
       "      <td>...</td>\n",
       "      <td>...</td>\n",
       "      <td>...</td>\n",
       "      <td>...</td>\n",
       "    </tr>\n",
       "    <tr>\n",
       "      <th>3868</th>\n",
       "      <td>0</td>\n",
       "      <td>0</td>\n",
       "      <td>Midfilder</td>\n",
       "      <td>ESP</td>\n",
       "      <td>La Liga</td>\n",
       "      <td>A. Madrid</td>\n",
       "      <td>18</td>\n",
       "      <td>13,000</td>\n",
       "    </tr>\n",
       "    <tr>\n",
       "      <th>3869</th>\n",
       "      <td>0</td>\n",
       "      <td>0</td>\n",
       "      <td>Defender</td>\n",
       "      <td>ESP</td>\n",
       "      <td>La Liga</td>\n",
       "      <td>A. Madrid</td>\n",
       "      <td>18</td>\n",
       "      <td>13,000</td>\n",
       "    </tr>\n",
       "    <tr>\n",
       "      <th>3875</th>\n",
       "      <td>0</td>\n",
       "      <td>0</td>\n",
       "      <td>Defender</td>\n",
       "      <td>ESP</td>\n",
       "      <td>La Liga</td>\n",
       "      <td>Sevilla</td>\n",
       "      <td>18</td>\n",
       "      <td>13,000</td>\n",
       "    </tr>\n",
       "    <tr>\n",
       "      <th>3878</th>\n",
       "      <td>0</td>\n",
       "      <td>0</td>\n",
       "      <td>Defender</td>\n",
       "      <td>ESP</td>\n",
       "      <td>La Liga</td>\n",
       "      <td>Valencia</td>\n",
       "      <td>18</td>\n",
       "      <td>13,000</td>\n",
       "    </tr>\n",
       "    <tr>\n",
       "      <th>3879</th>\n",
       "      <td>0</td>\n",
       "      <td>0</td>\n",
       "      <td>Defender</td>\n",
       "      <td>ESP</td>\n",
       "      <td>La Liga</td>\n",
       "      <td>A. Bilbao</td>\n",
       "      <td>18</td>\n",
       "      <td>13,000</td>\n",
       "    </tr>\n",
       "  </tbody>\n",
       "</table>\n",
       "<p>65 rows × 8 columns</p>\n",
       "</div>"
      ],
      "text/plain": [
       "      Caps  Apps   Position Nation             League       Club  Age     Wage\n",
       "1488     0     0  Midfilder    ENG     Premier League    Chelsea   18  780,000\n",
       "2372     0     0   Defender    ENG     Premier League    Chelsea   18  182,000\n",
       "2433     0     2  Midfilder    CMR  Ligue 1 Uber Eats       LOSC   18  163,000\n",
       "2476     0     0  Midfilder    ENG     Premier League   Man City   18  156,000\n",
       "2584     0     0    Forward    ENG     Premier League  Liverpool   18  130,000\n",
       "...    ...   ...        ...    ...                ...        ...  ...      ...\n",
       "3868     0     0  Midfilder    ESP            La Liga  A. Madrid   18   13,000\n",
       "3869     0     0   Defender    ESP            La Liga  A. Madrid   18   13,000\n",
       "3875     0     0   Defender    ESP            La Liga    Sevilla   18   13,000\n",
       "3878     0     0   Defender    ESP            La Liga   Valencia   18   13,000\n",
       "3879     0     0   Defender    ESP            La Liga  A. Bilbao   18   13,000\n",
       "\n",
       "[65 rows x 8 columns]"
      ]
     },
     "execution_count": 5,
     "metadata": {},
     "output_type": "execute_result"
    }
   ],
   "source": [
    "football_wage_data[football_wage_data.duplicated()]"
   ]
  },
  {
   "cell_type": "code",
   "execution_count": 6,
   "id": "3448fb27-b1ac-4ce5-8952-5a3071f1a5e1",
   "metadata": {},
   "outputs": [],
   "source": [
    "football_wage_data = football_wage_data.drop_duplicates()"
   ]
  },
  {
   "cell_type": "code",
   "execution_count": 7,
   "id": "cc92b290-e8df-49a3-91f4-1f4ab6441667",
   "metadata": {},
   "outputs": [
    {
     "data": {
      "text/html": [
       "<div>\n",
       "<style scoped>\n",
       "    .dataframe tbody tr th:only-of-type {\n",
       "        vertical-align: middle;\n",
       "    }\n",
       "\n",
       "    .dataframe tbody tr th {\n",
       "        vertical-align: top;\n",
       "    }\n",
       "\n",
       "    .dataframe thead th {\n",
       "        text-align: right;\n",
       "    }\n",
       "</style>\n",
       "<table border=\"1\" class=\"dataframe\">\n",
       "  <thead>\n",
       "    <tr style=\"text-align: right;\">\n",
       "      <th></th>\n",
       "      <th>Caps</th>\n",
       "      <th>Apps</th>\n",
       "      <th>Position</th>\n",
       "      <th>Nation</th>\n",
       "      <th>League</th>\n",
       "      <th>Club</th>\n",
       "      <th>Age</th>\n",
       "      <th>Wage</th>\n",
       "    </tr>\n",
       "  </thead>\n",
       "  <tbody>\n",
       "  </tbody>\n",
       "</table>\n",
       "</div>"
      ],
      "text/plain": [
       "Empty DataFrame\n",
       "Columns: [Caps, Apps, Position, Nation, League, Club, Age, Wage]\n",
       "Index: []"
      ]
     },
     "execution_count": 7,
     "metadata": {},
     "output_type": "execute_result"
    }
   ],
   "source": [
    "football_wage_data[football_wage_data.duplicated()]"
   ]
  },
  {
   "cell_type": "markdown",
   "id": "32a5dffa-c734-4bc3-afe2-a71385661f41",
   "metadata": {},
   "source": [
    "### Dataset descriptions"
   ]
  },
  {
   "cell_type": "code",
   "execution_count": 8,
   "id": "82580acc-d105-4235-82b4-793cfbd22dc8",
   "metadata": {},
   "outputs": [
    {
     "data": {
      "text/html": [
       "<div>\n",
       "<style scoped>\n",
       "    .dataframe tbody tr th:only-of-type {\n",
       "        vertical-align: middle;\n",
       "    }\n",
       "\n",
       "    .dataframe tbody tr th {\n",
       "        vertical-align: top;\n",
       "    }\n",
       "\n",
       "    .dataframe thead th {\n",
       "        text-align: right;\n",
       "    }\n",
       "</style>\n",
       "<table border=\"1\" class=\"dataframe\">\n",
       "  <thead>\n",
       "    <tr style=\"text-align: right;\">\n",
       "      <th></th>\n",
       "      <th>Caps</th>\n",
       "      <th>Apps</th>\n",
       "      <th>Position</th>\n",
       "      <th>Nation</th>\n",
       "      <th>League</th>\n",
       "      <th>Club</th>\n",
       "      <th>Age</th>\n",
       "      <th>Wage</th>\n",
       "    </tr>\n",
       "  </thead>\n",
       "  <tbody>\n",
       "    <tr>\n",
       "      <th>0</th>\n",
       "      <td>57</td>\n",
       "      <td>190</td>\n",
       "      <td>Forward</td>\n",
       "      <td>FRA</td>\n",
       "      <td>Ligue 1 Uber Eats</td>\n",
       "      <td>PSG</td>\n",
       "      <td>23</td>\n",
       "      <td>46,427,000</td>\n",
       "    </tr>\n",
       "    <tr>\n",
       "      <th>1</th>\n",
       "      <td>119</td>\n",
       "      <td>324</td>\n",
       "      <td>Midfilder</td>\n",
       "      <td>BRA</td>\n",
       "      <td>Ligue 1 Uber Eats</td>\n",
       "      <td>PSG</td>\n",
       "      <td>30</td>\n",
       "      <td>42,125,000</td>\n",
       "    </tr>\n",
       "    <tr>\n",
       "      <th>2</th>\n",
       "      <td>162</td>\n",
       "      <td>585</td>\n",
       "      <td>Forward</td>\n",
       "      <td>ARG</td>\n",
       "      <td>Ligue 1 Uber Eats</td>\n",
       "      <td>PSG</td>\n",
       "      <td>35</td>\n",
       "      <td>34,821,000</td>\n",
       "    </tr>\n",
       "    <tr>\n",
       "      <th>3</th>\n",
       "      <td>120</td>\n",
       "      <td>443</td>\n",
       "      <td>Forward</td>\n",
       "      <td>BEL</td>\n",
       "      <td>La Liga</td>\n",
       "      <td>R. Madrid</td>\n",
       "      <td>31</td>\n",
       "      <td>19,959,000</td>\n",
       "    </tr>\n",
       "    <tr>\n",
       "      <th>4</th>\n",
       "      <td>45</td>\n",
       "      <td>480</td>\n",
       "      <td>Goalkeeper</td>\n",
       "      <td>ESP</td>\n",
       "      <td>Premier League</td>\n",
       "      <td>Man UFC</td>\n",
       "      <td>31</td>\n",
       "      <td>19,500,000</td>\n",
       "    </tr>\n",
       "  </tbody>\n",
       "</table>\n",
       "</div>"
      ],
      "text/plain": [
       "   Caps  Apps    Position Nation             League       Club  Age  \\\n",
       "0    57   190     Forward    FRA  Ligue 1 Uber Eats        PSG   23   \n",
       "1   119   324   Midfilder    BRA  Ligue 1 Uber Eats        PSG   30   \n",
       "2   162   585     Forward    ARG  Ligue 1 Uber Eats        PSG   35   \n",
       "3   120   443     Forward    BEL            La Liga  R. Madrid   31   \n",
       "4    45   480  Goalkeeper    ESP     Premier League    Man UFC   31   \n",
       "\n",
       "         Wage  \n",
       "0  46,427,000  \n",
       "1  42,125,000  \n",
       "2  34,821,000  \n",
       "3  19,959,000  \n",
       "4  19,500,000  "
      ]
     },
     "execution_count": 8,
     "metadata": {},
     "output_type": "execute_result"
    }
   ],
   "source": [
    "football_wage_data.head()"
   ]
  },
  {
   "cell_type": "code",
   "execution_count": 9,
   "id": "d2311112-652e-4ab0-89aa-6e12213a749a",
   "metadata": {},
   "outputs": [
    {
     "data": {
      "text/plain": [
       "(3842, 8)"
      ]
     },
     "execution_count": 9,
     "metadata": {},
     "output_type": "execute_result"
    }
   ],
   "source": [
    "football_wage_data.shape"
   ]
  },
  {
   "cell_type": "code",
   "execution_count": 10,
   "id": "a2fbc195-09fd-4c04-bfac-a2f4064b1d94",
   "metadata": {},
   "outputs": [
    {
     "data": {
      "text/plain": [
       "Index(['Caps', 'Apps', 'Position', 'Nation', 'League', 'Club', 'Age', 'Wage'], dtype='object')"
      ]
     },
     "execution_count": 10,
     "metadata": {},
     "output_type": "execute_result"
    }
   ],
   "source": [
    "football_wage_data.columns"
   ]
  },
  {
   "cell_type": "code",
   "execution_count": 11,
   "id": "67974c41-c94f-4609-8474-588c50597dc7",
   "metadata": {},
   "outputs": [
    {
     "name": "stdout",
     "output_type": "stream",
     "text": [
      "<class 'pandas.core.frame.DataFrame'>\n",
      "Int64Index: 3842 entries, 0 to 3906\n",
      "Data columns (total 8 columns):\n",
      " #   Column    Non-Null Count  Dtype \n",
      "---  ------    --------------  ----- \n",
      " 0   Caps      3842 non-null   int64 \n",
      " 1   Apps      3842 non-null   int64 \n",
      " 2   Position  3842 non-null   object\n",
      " 3   Nation    3842 non-null   object\n",
      " 4   League    3842 non-null   object\n",
      " 5   Club      3842 non-null   object\n",
      " 6   Age       3842 non-null   int64 \n",
      " 7   Wage      3842 non-null   object\n",
      "dtypes: int64(3), object(5)\n",
      "memory usage: 270.1+ KB\n"
     ]
    }
   ],
   "source": [
    "football_wage_data.info()"
   ]
  },
  {
   "cell_type": "code",
   "execution_count": 12,
   "id": "0c413245-a296-4fae-8f43-ae42e33170f1",
   "metadata": {},
   "outputs": [
    {
     "data": {
      "text/html": [
       "<div>\n",
       "<style scoped>\n",
       "    .dataframe tbody tr th:only-of-type {\n",
       "        vertical-align: middle;\n",
       "    }\n",
       "\n",
       "    .dataframe tbody tr th {\n",
       "        vertical-align: top;\n",
       "    }\n",
       "\n",
       "    .dataframe thead th {\n",
       "        text-align: right;\n",
       "    }\n",
       "</style>\n",
       "<table border=\"1\" class=\"dataframe\">\n",
       "  <thead>\n",
       "    <tr style=\"text-align: right;\">\n",
       "      <th></th>\n",
       "      <th>Caps</th>\n",
       "      <th>Apps</th>\n",
       "      <th>Age</th>\n",
       "    </tr>\n",
       "  </thead>\n",
       "  <tbody>\n",
       "    <tr>\n",
       "      <th>count</th>\n",
       "      <td>3842.000000</td>\n",
       "      <td>3842.000000</td>\n",
       "      <td>3842.000000</td>\n",
       "    </tr>\n",
       "    <tr>\n",
       "      <th>mean</th>\n",
       "      <td>9.077564</td>\n",
       "      <td>142.426080</td>\n",
       "      <td>24.221499</td>\n",
       "    </tr>\n",
       "    <tr>\n",
       "      <th>std</th>\n",
       "      <td>20.657954</td>\n",
       "      <td>131.527544</td>\n",
       "      <td>4.914963</td>\n",
       "    </tr>\n",
       "    <tr>\n",
       "      <th>min</th>\n",
       "      <td>0.000000</td>\n",
       "      <td>0.000000</td>\n",
       "      <td>18.000000</td>\n",
       "    </tr>\n",
       "    <tr>\n",
       "      <th>25%</th>\n",
       "      <td>0.000000</td>\n",
       "      <td>19.000000</td>\n",
       "      <td>20.000000</td>\n",
       "    </tr>\n",
       "    <tr>\n",
       "      <th>50%</th>\n",
       "      <td>0.000000</td>\n",
       "      <td>119.000000</td>\n",
       "      <td>24.000000</td>\n",
       "    </tr>\n",
       "    <tr>\n",
       "      <th>75%</th>\n",
       "      <td>7.000000</td>\n",
       "      <td>226.000000</td>\n",
       "      <td>28.000000</td>\n",
       "    </tr>\n",
       "    <tr>\n",
       "      <th>max</th>\n",
       "      <td>180.000000</td>\n",
       "      <td>715.000000</td>\n",
       "      <td>41.000000</td>\n",
       "    </tr>\n",
       "  </tbody>\n",
       "</table>\n",
       "</div>"
      ],
      "text/plain": [
       "              Caps         Apps          Age\n",
       "count  3842.000000  3842.000000  3842.000000\n",
       "mean      9.077564   142.426080    24.221499\n",
       "std      20.657954   131.527544     4.914963\n",
       "min       0.000000     0.000000    18.000000\n",
       "25%       0.000000    19.000000    20.000000\n",
       "50%       0.000000   119.000000    24.000000\n",
       "75%       7.000000   226.000000    28.000000\n",
       "max     180.000000   715.000000    41.000000"
      ]
     },
     "execution_count": 12,
     "metadata": {},
     "output_type": "execute_result"
    }
   ],
   "source": [
    "football_wage_data.describe()"
   ]
  },
  {
   "cell_type": "markdown",
   "id": "c6a63b72-9e1c-43fb-afe2-6e17fb2d80d9",
   "metadata": {},
   "source": [
    "### Unique values of Categorical columns"
   ]
  },
  {
   "cell_type": "code",
   "execution_count": 13,
   "id": "4741311b-0ca4-499c-82c8-bf6da21aa67f",
   "metadata": {},
   "outputs": [
    {
     "data": {
      "text/plain": [
       "array(['Forward', 'Midfilder', 'Goalkeeper', 'Defender'], dtype=object)"
      ]
     },
     "execution_count": 13,
     "metadata": {},
     "output_type": "execute_result"
    }
   ],
   "source": [
    "football_wage_data[\"Position\"].unique()"
   ]
  },
  {
   "cell_type": "code",
   "execution_count": 14,
   "id": "9d8135c6-f487-4e38-9cf7-054ea13d23a2",
   "metadata": {},
   "outputs": [
    {
     "data": {
      "text/plain": [
       "array(['FRA', 'BRA', 'ARG', 'BEL', 'ESP', 'AUT', 'EGY', 'ENG', 'NOR',\n",
       "       'GER', 'SVN', 'SEN', 'POL', 'CRO', 'NED', 'POR', 'ITA', 'SRB',\n",
       "       'ALG', 'CIV', 'DEN', 'CRC', 'KOR', 'GHA', 'URU', 'MAR', 'GAB',\n",
       "       'SWE', 'SCO', 'COL', 'TUR', 'BIH', 'UKR', 'USA', 'CMR', 'CAN',\n",
       "       'GUI', 'WAL', 'MLI', 'SUI', 'CTA', 'DOM', 'NIR', 'MEX', 'NGA',\n",
       "       'VEN', 'CZE', 'SVK', 'JAM', 'CHI', 'ARM', 'NZL', 'ZAM', 'JPN',\n",
       "       'RUS', 'PAR', 'ALB', 'IRL', 'MNE', 'KOS', 'FIN', 'GRE', 'AUS',\n",
       "       'BFA', 'ECU', 'ISR', 'HUN', 'IRN', 'COD', 'TOG', 'ROU', 'UZB',\n",
       "       'MKD', 'GNB', 'MOZ', 'GRN', 'GEO', 'ZIM', 'TUN', 'SUR', 'LUX',\n",
       "       'GAM', 'EQG', 'HON', 'MSR', 'BUL', 'ANG', 'RSA', 'BDI', 'CPV',\n",
       "       'CYP', 'PER', 'SLE', 'GLP', 'BEN', 'PHI', 'GUF', 'LBY', 'COM',\n",
       "       'CGO', 'ISL', 'MAD', 'LTU', 'PAN', 'LVA', 'CUW', 'EST', 'IRQ',\n",
       "       'GUY', 'PLE', 'THA', 'CHN', 'BER', 'SIN'], dtype=object)"
      ]
     },
     "execution_count": 14,
     "metadata": {},
     "output_type": "execute_result"
    }
   ],
   "source": [
    "football_wage_data[\"Nation\"].unique()"
   ]
  },
  {
   "cell_type": "code",
   "execution_count": 15,
   "id": "bb19e928-37ec-4031-85be-2d126233512f",
   "metadata": {},
   "outputs": [
    {
     "data": {
      "text/plain": [
       "array(['Ligue 1 Uber Eats', 'La Liga', 'Premier League', 'Serie A',\n",
       "       'Bundesliga', 'Primiera Liga'], dtype=object)"
      ]
     },
     "execution_count": 15,
     "metadata": {},
     "output_type": "execute_result"
    }
   ],
   "source": [
    "football_wage_data[\"League\"].unique()"
   ]
  },
  {
   "cell_type": "code",
   "execution_count": null,
   "id": "0122140c-37c7-46ff-9d97-1ebe9e28b43a",
   "metadata": {},
   "outputs": [],
   "source": []
  }
 ],
 "metadata": {
  "kernelspec": {
   "display_name": "ml",
   "language": "python",
   "name": "ml"
  },
  "language_info": {
   "codemirror_mode": {
    "name": "ipython",
    "version": 3
   },
   "file_extension": ".py",
   "mimetype": "text/x-python",
   "name": "python",
   "nbconvert_exporter": "python",
   "pygments_lexer": "ipython3",
   "version": "3.9.0"
  }
 },
 "nbformat": 4,
 "nbformat_minor": 5
}
